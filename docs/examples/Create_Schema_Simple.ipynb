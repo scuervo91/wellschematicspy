{
 "cells": [
  {
   "cell_type": "code",
   "execution_count": 1,
   "metadata": {},
   "outputs": [],
   "source": [
    "import matplotlib.pyplot as plt \n",
    "from wellschematicspy import  WellSchema, OpenHole,Casing,Cement,Perforation,Tubing,BridgePlug,Sleeve,Plug,Packer"
   ]
  },
  {
   "cell_type": "markdown",
   "metadata": {},
   "source": [
    "# Create a Simple Well Schematics.\n",
    "\n",
    "You can create a well Schematics with the basics parametes with above a series of Python objects that were imported. \n",
    "\n",
    "As they are created on top of Pydantic you can easily export the data to either json or a dictionary\n"
   ]
  },
  {
   "cell_type": "markdown",
   "metadata": {},
   "source": [
    "## Open Hole \n",
    "\n",
    "The first thing a well must have is a well defined Open Hole. \n",
    "To define a OpenHole it is required the **Top**, **Bottom** and **Diameter**"
   ]
  },
  {
   "cell_type": "code",
   "execution_count": 2,
   "metadata": {},
   "outputs": [],
   "source": [
    "oh1 = OpenHole(\n",
    "    name = 'surface_hole',\n",
    "    top = 0,\n",
    "    bottom=2000,\n",
    "    diameter = 12.25\n",
    ")\n",
    "\n",
    "oh2 = OpenHole(\n",
    "    name = 'production_hole',\n",
    "    top = 2000,\n",
    "    bottom=9356,\n",
    "    diameter = 8.5\n",
    ")"
   ]
  },
  {
   "cell_type": "code",
   "execution_count": 3,
   "metadata": {},
   "outputs": [],
   "source": [
    "#oh1.to_series()"
   ]
  },
  {
   "cell_type": "markdown",
   "metadata": {},
   "source": [
    "### Plot The Schematics\n",
    "\n",
    "To plot a well Schematics you have to create an WellSchema Object and assign its attributes. \n",
    "\n",
    "One of the attributes you can attach to a WellSchema is a list of OpenHole Object"
   ]
  },
  {
   "cell_type": "code",
   "execution_count": 4,
   "metadata": {},
   "outputs": [
    {
     "data": {
      "image/png": "[encoded data removed]",
      "text/plain": [
       "<Figure size 288x648 with 1 Axes>"
      ]
     },
     "metadata": {
      "needs_background": "light"
     },
     "output_type": "display_data"
    }
   ],
   "source": [
    "wsh = WellSchema(\n",
    "    open_holes = [oh2,oh1]\n",
    ")\n",
    "\n",
    "wsh.plot(xtick=True)"
   ]
  },
  {
   "cell_type": "markdown",
   "metadata": {},
   "source": [
    "## Add Casings\n",
    "\n",
    "You can add casing to the WellSchema by creating the Casing object"
   ]
  },
  {
   "cell_type": "code",
   "execution_count": 5,
   "metadata": {},
   "outputs": [],
   "source": [
    "csg1 = Casing(\n",
    "    name='surface_casing',\n",
    "    top=0,\n",
    "    bottom=1990,\n",
    "    diameter = 9.625\n",
    ")\n",
    "\n",
    "csg2 = Casing(\n",
    "    name='surface_casing',\n",
    "    top=0,\n",
    "    bottom=9000,\n",
    "    diameter = 7\n",
    ")"
   ]
  },
  {
   "cell_type": "markdown",
   "metadata": {},
   "source": [
    "### Plot WellSchema with Casings\n",
    "\n",
    "To plot the Well Schema with the casings created above, just assing a list of Casings to WellSchema attribute *casings*"
   ]
  },
  {
   "cell_type": "code",
   "execution_count": 6,
   "metadata": {},
   "outputs": [
    {
     "data": {
      "image/png": "[encoded data removed]",
      "text/plain": [
       "<Figure size 288x648 with 1 Axes>"
      ]
     },
     "metadata": {
      "needs_background": "light"
     },
     "output_type": "display_data"
    }
   ],
   "source": [
    "wsh.casings = [csg1,csg2]\n",
    "\n",
    "wsh.plot()"
   ]
  },
  {
   "cell_type": "markdown",
   "metadata": {},
   "source": [
    "## Add Cement\n",
    "\n",
    "A Cement object must be attached to a Casing Object. You can define more than one cement to each casing\n",
    "\n"
   ]
  },
  {
   "cell_type": "code",
   "execution_count": 7,
   "metadata": {},
   "outputs": [],
   "source": [
    "cmt1 = Cement(\n",
    "    name='surface_cement',\n",
    "    top=0,\n",
    "    bottom=1985,\n",
    "    oh=12.25\n",
    ")\n",
    "\n",
    "cmt2_sec1 = Cement(\n",
    "    name='prod_cement',\n",
    "    top=7000,\n",
    "    bottom=9000,\n",
    "    oh=8.5\n",
    ")\n",
    "\n",
    "cmt2_sec2 = Cement(\n",
    "    name='squeeze',\n",
    "    top=6500,\n",
    "    bottom=6900,\n",
    "    oh=8.5\n",
    ")"
   ]
  },
  {
   "cell_type": "markdown",
   "metadata": {},
   "source": [
    "If the WellSchema is already created just assign to each casing a list of cement object. "
   ]
  },
  {
   "cell_type": "code",
   "execution_count": 8,
   "metadata": {},
   "outputs": [
    {
     "data": {
      "image/png": "[encoded data removed]",
      "text/plain": [
       "<Figure size 288x648 with 1 Axes>"
      ]
     },
     "metadata": {
      "needs_background": "light"
     },
     "output_type": "display_data"
    }
   ],
   "source": [
    "## \n",
    "wsh.casings[0].cement = [cmt1]\n",
    "wsh.casings[1].cement = [cmt2_sec1,cmt2_sec2]\n",
    "\n",
    "wsh.plot()"
   ]
  },
  {
   "cell_type": "markdown",
   "metadata": {},
   "source": [
    "## Perforations\n",
    "\n",
    "Like the Cement, Perforations are also attached to casings."
   ]
  },
  {
   "cell_type": "code",
   "execution_count": 9,
   "metadata": {},
   "outputs": [],
   "source": [
    "perf1 = Perforation(\n",
    "    name='upper_perf',\n",
    "    top=8300,\n",
    "    bottom=8315,\n",
    "    oh=8.5\n",
    ")\n",
    "\n",
    "perf2 = Perforation(\n",
    "    name='mid_perf',\n",
    "    top=8345,\n",
    "    bottom=8377,\n",
    "    oh=8.5\n",
    ")\n",
    "\n",
    "perf3 = Perforation(\n",
    "    name='lower_perf',\n",
    "    top=8500,\n",
    "    bottom=8600,\n",
    "    oh=8.5\n",
    ")"
   ]
  },
  {
   "cell_type": "code",
   "execution_count": 10,
   "metadata": {},
   "outputs": [
    {
     "data": {
      "image/png": "[encoded data removed]",
      "text/plain": [
       "<Figure size 288x648 with 1 Axes>"
      ]
     },
     "metadata": {
      "needs_background": "light"
     },
     "output_type": "display_data"
    }
   ],
   "source": [
    "wsh.casings[1].perforations = [perf1,perf2,perf3]\n",
    "\n",
    "wsh.plot()"
   ]
  },
  {
   "cell_type": "markdown",
   "metadata": {},
   "source": [
    "You can set the depth limits when plotting the schema"
   ]
  },
  {
   "cell_type": "code",
   "execution_count": 11,
   "metadata": {},
   "outputs": [
    {
     "data": {
      "image/png": "[encoded data removed]",
      "text/plain": [
       "<Figure size 288x648 with 1 Axes>"
      ]
     },
     "metadata": {
      "needs_background": "light"
     },
     "output_type": "display_data"
    }
   ],
   "source": [
    "wsh.plot(lims=[8200,8700])"
   ]
  },
  {
   "cell_type": "markdown",
   "metadata": {},
   "source": [
    "## Create Completion\n",
    "\n",
    "You can create a simple completion schema by adding them to *completion* attribute in the well"
   ]
  },
  {
   "cell_type": "code",
   "execution_count": 12,
   "metadata": {},
   "outputs": [],
   "source": [
    "tb1 = Tubing(\n",
    "    name = 'Production String',\n",
    "    top = 0,\n",
    "    bottom = 8335,\n",
    "    diameter = 3.5\n",
    ")\n",
    "\n",
    "pkr1 = Packer(\n",
    "    name = 'packer1',\n",
    "    top = 8330,\n",
    "    bottom = 8335,\n",
    "    diameter = 7,\n",
    "    inner_diameter = 3.5\n",
    ")\n",
    "\n",
    "tb2 = Tubing(\n",
    "    name = 'tb2',\n",
    "    top = 8335,\n",
    "    bottom = 8450,\n",
    "    diameter = 3.5\n",
    ")\n",
    "\n",
    "pkr2 = Packer(\n",
    "    name = 'Packer2',\n",
    "    top = 8450,\n",
    "    bottom = 8455,\n",
    "    diameter = 7,\n",
    "    inner_diameter = 3.5\n",
    ")\n",
    "\n",
    "tb3 = Tubing(\n",
    "    name = 'Production String',\n",
    "    top = 8450,\n",
    "    bottom = 8550,\n",
    "    diameter = 3.5\n",
    ")"
   ]
  },
  {
   "cell_type": "code",
   "execution_count": 13,
   "metadata": {},
   "outputs": [
    {
     "data": {
      "text/plain": [
       "[Tubing(name='Production String', top=0.0, bottom=8335.0, install_date=None, remove_date=None, diameter=3.5, pipe_width=0.02, color=Color('#828783', rgb=(130, 135, 131)), hatch=None),\n",
       " Tubing(name='tb2', top=8335.0, bottom=8450.0, install_date=None, remove_date=None, diameter=3.5, pipe_width=0.02, color=Color('#828783', rgb=(130, 135, 131)), hatch=None),\n",
       " Tubing(name='Production String', top=8450.0, bottom=8550.0, install_date=None, remove_date=None, diameter=3.5, pipe_width=0.02, color=Color('#828783', rgb=(130, 135, 131)), hatch=None),\n",
       " Packer(name='Packer2', top=8450.0, bottom=8455.0, install_date=None, remove_date=None, diameter=7.0, inner_diameter=3.5, color=Color('#7a2222', rgb=(122, 34, 34)), hatch='xx'),\n",
       " Packer(name='packer1', top=8330.0, bottom=8335.0, install_date=None, remove_date=None, diameter=7.0, inner_diameter=3.5, color=Color('#7a2222', rgb=(122, 34, 34)), hatch='xx')]"
      ]
     },
     "execution_count": 13,
     "metadata": {},
     "output_type": "execute_result"
    }
   ],
   "source": [
    "wsh.completion=[tb1,tb2,tb3,pkr2,pkr1]\n",
    "wsh.completion"
   ]
  },
  {
   "cell_type": "code",
   "execution_count": 14,
   "metadata": {},
   "outputs": [
    {
     "name": "stdout",
     "output_type": "stream",
     "text": [
      "(0.2142857142857143, 8450.0)\n",
      "0.14285714285714285\n",
      "5.0\n",
      "(0.2142857142857143, 8330.0)\n",
      "0.14285714285714285\n",
      "5.0\n"
     ]
    },
    {
     "data": {
      "image/png": "[encoded data removed]",
      "text/plain": [
       "<Figure size 288x648 with 1 Axes>"
      ]
     },
     "metadata": {
      "needs_background": "light"
     },
     "output_type": "display_data"
    }
   ],
   "source": [
    "\n",
    "wsh.plot(lims=[8200,8650])"
   ]
  },
  {
   "cell_type": "markdown",
   "metadata": {},
   "source": [
    "## Export & Import \n",
    "\n",
    "You can export the WellSchema to either dictionary or json due they are based pn Pydantic models. \n",
    "\n",
    "In the same way you can create a instance of any of the objects described so far from a dictionary"
   ]
  },
  {
   "cell_type": "code",
   "execution_count": null,
   "metadata": {},
   "outputs": [],
   "source": [
    "dict_well = wsh.dict()\n",
    "\n",
    "well_from_dict = WellSchema(**dict_well)\n",
    "\n",
    "print(type(well_from_dict))"
   ]
  }
 ],
 "metadata": {
  "kernelspec": {
   "display_name": "Python 3.8.12 ('wellschematicspy')",
   "language": "python",
   "name": "python3"
  },
  "language_info": {
   "codemirror_mode": {
    "name": "ipython",
    "version": 3
   },
   "file_extension": ".py",
   "mimetype": "text/x-python",
   "name": "python",
   "nbconvert_exporter": "python",
   "pygments_lexer": "ipython3",
   "version": "3.8.12"
  },
  "vscode": {
   "interpreter": {
    "hash": "e77bc31108a8d6c5b1e578475e47bf2b0487d3ec78cfdf2d2d40cfbbae91b00d"
   }
  }
 },
 "nbformat": 4,
 "nbformat_minor": 2
}
